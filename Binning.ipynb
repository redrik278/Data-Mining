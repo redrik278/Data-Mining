{
 "cells": [
  {
   "cell_type": "code",
   "execution_count": 8,
   "metadata": {},
   "outputs": [
    {
     "name": "stdout",
     "output_type": "stream",
     "text": [
      "[2, 5, 12, 12, 14, 23, 23, 34, 34, 34, 45, 46, 54, 65, 65, 65, 65]\n",
      "17\n"
     ]
    }
   ],
   "source": [
    "val = [2, 5, 46, 65, 12, 34, 65, 34, 23, 65, 23, 34, 54,45,65, 12,14]\n",
    "val.sort()\n",
    "print(val)\n",
    "print(len(val))"
   ]
  },
  {
   "cell_type": "markdown",
   "metadata": {},
   "source": [
    "## Partition into (equal-frequency) bins"
   ]
  },
  {
   "cell_type": "code",
   "execution_count": 14,
   "metadata": {},
   "outputs": [
    {
     "name": "stdout",
     "output_type": "stream",
     "text": [
      "[[2, 5, 12], [12, 14, 23], [23, 34, 34], [34, 45, 46], [54, 65, 65], [65, 65]]\n",
      "6\n"
     ]
    }
   ],
   "source": [
    "binSize = 3\n",
    "bin = []\n",
    "temp = []\n",
    "\n",
    "for i in range(0, len(val), 1):\n",
    "  temp.append(val[i])\n",
    "  if len(temp)==binSize:\n",
    "    bin.append(list(temp))\n",
    "    temp.clear()\n",
    "\n",
    "if len(temp)> 0:\n",
    "  bin.append(list(temp))\n",
    "\n",
    "print(bin)\n",
    "print(len(bin))"
   ]
  },
  {
   "cell_type": "markdown",
   "metadata": {},
   "source": [
    "## Smoothing by bin means"
   ]
  },
  {
   "cell_type": "code",
   "execution_count": 15,
   "metadata": {},
   "outputs": [
    {
     "name": "stdout",
     "output_type": "stream",
     "text": [
      "[6.333333333333333, 6.333333333333333, 6.333333333333333]\n",
      "[16.333333333333332, 16.333333333333332, 16.333333333333332]\n",
      "[30.333333333333332, 30.333333333333332, 30.333333333333332]\n",
      "[41.666666666666664, 41.666666666666664, 41.666666666666664]\n",
      "[61.333333333333336, 61.333333333333336, 61.333333333333336]\n",
      "[65.0, 65.0]\n"
     ]
    }
   ],
   "source": [
    "bin2 = []\n",
    "for i in range(0, len(bin), 1):\n",
    "  temp = bin[i]\n",
    "  sum = 0.0\n",
    "  for j in range(0, len(temp), 1):\n",
    "    sum+=temp[j]\n",
    "  avg = sum / len(temp)\n",
    "  temp = [avg] * len(temp)\n",
    "  # print(temp)\n",
    "  bin2.append(list(temp))\n",
    "\n",
    "for i in range(0, len(bin2), 1):\n",
    "  print(bin2[i])"
   ]
  },
  {
   "cell_type": "markdown",
   "metadata": {},
   "source": [
    "## Smoothing by bin boundaries"
   ]
  },
  {
   "cell_type": "code",
   "execution_count": 16,
   "metadata": {},
   "outputs": [
    {
     "name": "stdout",
     "output_type": "stream",
     "text": [
      "[[2, 5, 12], [12, 14, 23], [23, 34, 34], [34, 45, 46], [54, 65, 65], [65, 65]]\n",
      "[[65.0, 65.0, 2, 2, 12], [12, 12, 23], [23, 34, 34], [34, 46, 46], [54, 65, 65], [65, 65]]\n"
     ]
    }
   ],
   "source": [
    "import numpy as np\n",
    "print(bin)\n",
    "bin3 = []\n",
    "for i in range(0, len(bin), 1):\n",
    "    max = np.max(bin[i])\n",
    "    min = np.min(bin[i])\n",
    "    for j in range(0, len(bin[i])):\n",
    "        if abs(max-bin[i][j]) < abs(min-bin[i][j]):\n",
    "                temp.append(max)\n",
    "        else:\n",
    "            temp.append(min)\n",
    "    bin3.append(list(temp))\n",
    "    temp.clear()\n",
    "print(bin3)"
   ]
  },
  {
   "cell_type": "markdown",
   "metadata": {},
   "source": [
    "## Min-Max Normalization"
   ]
  },
  {
   "cell_type": "code",
   "execution_count": 17,
   "metadata": {},
   "outputs": [
    {
     "name": "stdout",
     "output_type": "stream",
     "text": [
      "[[2, 5, 12], [12, 14, 23], [23, 34, 34], [34, 45, 46], [54, 65, 65], [65, 65]]\n",
      "[0.0, 0.3, 1.0]\n",
      "[0.0, 0.18181818181818182, 1.0]\n",
      "[0.0, 1.0, 1.0]\n",
      "[0.0, 0.9166666666666666, 1.0]\n",
      "[0.0, 1.0, 1.0]\n",
      "[0, 0]\n"
     ]
    }
   ],
   "source": [
    "import numpy as np\n",
    "print(bin)\n",
    "bin4 = []\n",
    "for i in range(0, len(bin), 1):\n",
    "    max = np.max(bin[i])\n",
    "    min = np.min(bin[i])\n",
    "    for j in range(0, len(bin[i])):\n",
    "        if abs(max) == abs(min):\n",
    "           norm = [0] * len(bin[i])  # Handle division by zero\n",
    "        else:\n",
    "            norm = (bin[i] - min) / (max - min)\n",
    "    bin4.append(list(norm))\n",
    "for i in range(0, len(bin4), 1):\n",
    "  print(bin4[i])"
   ]
  },
  {
   "cell_type": "markdown",
   "metadata": {},
   "source": [
    "## Min-Max Normalization(-1 to +1)"
   ]
  },
  {
   "cell_type": "code",
   "execution_count": 18,
   "metadata": {},
   "outputs": [
    {
     "name": "stdout",
     "output_type": "stream",
     "text": [
      "[-1.0, -0.4, 1.0]\n",
      "[-1.0, -0.6363636363636364, 1.0]\n",
      "[-1.0, 1.0, 1.0]\n",
      "[-1.0, 0.8333333333333333, 1.0]\n",
      "[-1.0, 1.0, 1.0]\n",
      "[0, 0]\n"
     ]
    }
   ],
   "source": [
    "import numpy as np\n",
    "\n",
    "bin4 = []\n",
    "for i in range(len(bin)):\n",
    "    max_val = np.max(bin[i])\n",
    "    min_val = np.min(bin[i])\n",
    "    \n",
    "    if abs(max_val) == abs(min_val):\n",
    "        norm = [0] * len(bin[i])  # Handle division by zero\n",
    "    else:\n",
    "        norm = [(x - min_val) / (max_val - min_val) for x in bin[i]]\n",
    "        norm = [(x * 2) - 1 for x in norm]  # Normalize to -1 to +1 range\n",
    "    \n",
    "    bin4.append(norm)\n",
    "\n",
    "for i in range(len(bin4)):\n",
    "    print(bin4[i])\n"
   ]
  }
 ],
 "metadata": {
  "kernelspec": {
   "display_name": "Python 3",
   "language": "python",
   "name": "python3"
  },
  "language_info": {
   "codemirror_mode": {
    "name": "ipython",
    "version": 3
   },
   "file_extension": ".py",
   "mimetype": "text/x-python",
   "name": "python",
   "nbconvert_exporter": "python",
   "pygments_lexer": "ipython3",
   "version": "3.11.4"
  },
  "orig_nbformat": 4
 },
 "nbformat": 4,
 "nbformat_minor": 2
}
