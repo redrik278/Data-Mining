{
 "cells": [
  {
   "cell_type": "code",
   "execution_count": 1,
   "metadata": {},
   "outputs": [],
   "source": [
    "conTable = [\n",
    "    [100, 450, 0],\n",
    "    [900, 370, 0],\n",
    "    [120, 170, 0],\n",
    "    [0, 0, 0]\n",
    "]"
   ]
  },
  {
   "cell_type": "code",
   "execution_count": 2,
   "metadata": {},
   "outputs": [
    {
     "name": "stdout",
     "output_type": "stream",
     "text": [
      "[[100, 450, 0], [900, 370, 0], [120, 170, 0], [0, 0, 0]]\n"
     ]
    }
   ],
   "source": [
    "print(conTable)"
   ]
  },
  {
   "cell_type": "code",
   "execution_count": 3,
   "metadata": {},
   "outputs": [],
   "source": [
    "def show(conTable):\n",
    "    for i in range (0, len(conTable), 1):\n",
    "        print(conTable[i])"
   ]
  },
  {
   "cell_type": "code",
   "execution_count": 4,
   "metadata": {},
   "outputs": [
    {
     "name": "stdout",
     "output_type": "stream",
     "text": [
      "[100, 450, 550.0]\n",
      "[900, 370, 1270.0]\n",
      "[120, 170, 290.0]\n",
      "[0, 0, 0]\n"
     ]
    }
   ],
   "source": [
    "for i in range(0, len(conTable)-1, 1):\n",
    "    sum = 0.0\n",
    "    for j in range(0, len(conTable[i])-1, 1):\n",
    "        sum += conTable[i][j]\n",
    "    conTable[i][len(conTable[i]) - 1] = sum\n",
    "show(conTable)"
   ]
  },
  {
   "cell_type": "code",
   "execution_count": 5,
   "metadata": {},
   "outputs": [
    {
     "name": "stdout",
     "output_type": "stream",
     "text": [
      "[100, 450, 550.0]\n",
      "[900, 370, 1270.0]\n",
      "[120, 170, 290.0]\n",
      "[1120.0, 990.0, 0]\n"
     ]
    }
   ],
   "source": [
    "for i in range(0, len(conTable[0])-1, 1):\n",
    "    sum = 0.0\n",
    "    for j in range(0, len(conTable)-1, 1):\n",
    "        sum += conTable[j][i]\n",
    "    conTable[len(conTable) - 1][i] = sum\n",
    "show(conTable)"
   ]
  },
  {
   "cell_type": "code",
   "execution_count": 6,
   "metadata": {},
   "outputs": [
    {
     "name": "stdout",
     "output_type": "stream",
     "text": [
      "[100, 450, 550.0]\n",
      "[900, 370, 1270.0]\n",
      "[120, 170, 290.0]\n",
      "[1120.0, 990.0, 2110.0]\n"
     ]
    }
   ],
   "source": [
    "sum = 0.0\n",
    "for i in range (0, len(conTable[0])-1, 1):\n",
    "    sum += conTable[len(conTable) - 1][i]\n",
    "conTable[len(conTable) - 1][len(conTable[0])- 1] = sum\n",
    "\n",
    "show(conTable)"
   ]
  },
  {
   "cell_type": "markdown",
   "metadata": {},
   "source": [
    "## Observed Table"
   ]
  },
  {
   "cell_type": "code",
   "execution_count": 7,
   "metadata": {},
   "outputs": [],
   "source": [
    "import numpy as np\n",
    "\n",
    "def calculate_observed_table(conTable):\n",
    "    observed_table = []\n",
    "    for i in range(0, len(conTable) - 1, 1):\n",
    "        temp = []\n",
    "        for j in range(0, len(conTable[i])-1, 1):\n",
    "            temp.append(conTable[i][j])\n",
    "        observed_table.append(temp)\n",
    "    return observed_table"
   ]
  },
  {
   "cell_type": "markdown",
   "metadata": {},
   "source": [
    "# Expected Table"
   ]
  },
  {
   "cell_type": "code",
   "execution_count": 8,
   "metadata": {},
   "outputs": [],
   "source": [
    "def calculate_expected_table(conTable):\n",
    "    observed_table = calculate_observed_table(conTable)\n",
    "    row_totals = [np.sum(row) for row in observed_table]\n",
    "    column_totals = [np.sum(column) for column in np.transpose(observed_table)]\n",
    "    total_count = np.sum(column_totals)\n",
    "\n",
    "    expected_table = []\n",
    "    for i in range(0, len(observed_table), 1):\n",
    "        temp = []\n",
    "        for j in range(0, len(observed_table[i]), 1):\n",
    "            expected_count = (row_totals[i] * column_totals[j]) / total_count\n",
    "            temp.append(expected_count)\n",
    "        expected_table.append(temp)\n",
    "\n",
    "    return expected_table"
   ]
  },
  {
   "cell_type": "markdown",
   "metadata": {},
   "source": [
    "# Chi-Square"
   ]
  },
  {
   "cell_type": "code",
   "execution_count": 9,
   "metadata": {},
   "outputs": [],
   "source": [
    "def calculate_chi_square(conTable):\n",
    "    observed_table = calculate_observed_table(conTable)\n",
    "    expected_table = calculate_expected_table(conTable)\n",
    "    chi_square = 0.0\n",
    "    for i in range(0, len(observed_table), 1):\n",
    "        for j in range(0, len(observed_table[i]), 1):\n",
    "            chi_square += ((observed_table[i][j] - expected_table[i][j]) ** 2) / expected_table[i][j]\n",
    "\n",
    "    return chi_square, expected_table"
   ]
  },
  {
   "cell_type": "markdown",
   "metadata": {},
   "source": [
    "# Printing"
   ]
  },
  {
   "cell_type": "code",
   "execution_count": 10,
   "metadata": {},
   "outputs": [
    {
     "name": "stdout",
     "output_type": "stream",
     "text": [
      "Expected Table:\n",
      "[291.9431279620853, 258.0568720379147]\n",
      "[674.1232227488151, 595.8767772511849]\n",
      "[153.93364928909952, 136.06635071090048]\n",
      "\n",
      "Observed Table:\n",
      "[100, 450]\n",
      "[900, 370]\n",
      "[120, 170]\n",
      "\n",
      "\n",
      "Chi-square value: 446.21339492010645\n"
     ]
    }
   ],
   "source": [
    "chi_square_value, expected_table = calculate_chi_square(conTable)\n",
    "\n",
    "print(\"Expected Table:\")\n",
    "for i in expected_table:\n",
    "    print(i)\n",
    "observed_table = calculate_observed_table(conTable)\n",
    "print(\"\\nObserved Table:\")\n",
    "for i in observed_table:\n",
    "    print(i)\n",
    "print(\"\\n\\nChi-square value:\", chi_square_value)"
   ]
  },
  {
   "cell_type": "code",
   "execution_count": null,
   "metadata": {},
   "outputs": [],
   "source": []
  }
 ],
 "metadata": {
  "kernelspec": {
   "display_name": "Python 3",
   "language": "python",
   "name": "python3"
  },
  "language_info": {
   "codemirror_mode": {
    "name": "ipython",
    "version": 3
   },
   "file_extension": ".py",
   "mimetype": "text/x-python",
   "name": "python",
   "nbconvert_exporter": "python",
   "pygments_lexer": "ipython3",
   "version": "3.11.4"
  },
  "orig_nbformat": 4
 },
 "nbformat": 4,
 "nbformat_minor": 2
}
